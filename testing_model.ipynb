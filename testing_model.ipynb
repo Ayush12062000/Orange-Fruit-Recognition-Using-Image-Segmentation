{
 "metadata": {
  "language_info": {
   "codemirror_mode": {
    "name": "ipython",
    "version": 3
   },
   "file_extension": ".py",
   "mimetype": "text/x-python",
   "name": "python",
   "nbconvert_exporter": "python",
   "pygments_lexer": "ipython3",
   "version": "3.7.9"
  },
  "orig_nbformat": 2,
  "kernelspec": {
   "name": "python3",
   "display_name": "Python 3.7.9 64-bit",
   "metadata": {
    "interpreter": {
     "hash": "21463fdfd04a8a485a54879021fcd21da1301dbfc4fefd04d0e18ba174845e58"
    }
   }
  }
 },
 "nbformat": 4,
 "nbformat_minor": 2,
 "cells": [
  {
   "cell_type": "code",
   "execution_count": 1,
   "metadata": {},
   "outputs": [],
   "source": [
    "import tensorflow as tf\n",
    "gpus= tf.config.experimental.list_physical_devices('GPU')\n",
    "tf.config.experimental.set_memory_growth(gpus[0], True)"
   ]
  },
  {
   "cell_type": "code",
   "execution_count": 2,
   "metadata": {},
   "outputs": [],
   "source": [
    "import numpy as np\n",
    "from tensorflow.keras.models import load_model\n",
    "from keras.models import model_from_json\n",
    "import matplotlib.pyplot as plt\n",
    "from tensorflow.keras.preprocessing.image import load_img, img_to_array"
   ]
  },
  {
   "cell_type": "code",
   "execution_count": 3,
   "metadata": {},
   "outputs": [],
   "source": [
    "model = model_from_json(open(\"Saved_model/model2.json\", \"r\").read())  \n",
    "model.load_weights('Saved_model/Orange_Fruit_Weights2.h5')"
   ]
  },
  {
   "cell_type": "code",
   "execution_count": 4,
   "metadata": {},
   "outputs": [],
   "source": [
    "#processing image for input\n",
    "\n",
    "def process_image(path):\n",
    "  img = load_img(path, target_size = (64,64))\n",
    "  img_tensor = img_to_array(img)\n",
    "  img_tensor = np.expand_dims(img_tensor, axis = 0)\n",
    "  img_tensor/=255.0\n",
    "  return img_tensor\n",
    "\n",
    "\n",
    "#predicting class of image\n",
    "def show(pred,img):\n",
    "\n",
    "  if pred>0.5: str = 'dected: Orange '\n",
    "  else: str = 'dected: Not Orange'\n",
    "\n",
    "  plt.imshow(img)\n",
    "  plt.axis('off')\n",
    "  plt.title(str)\n",
    "  plt.show()"
   ]
  },
  {
   "cell_type": "code",
   "execution_count": 5,
   "metadata": {},
   "outputs": [],
   "source": [
    "def predictor(path):\n",
    "    pred = model.predict(process_image(path))\n",
    "    img_original = load_img(path)\n",
    "    return show(pred, img_original)"
   ]
  },
  {
   "cell_type": "code",
   "execution_count": 6,
   "metadata": {},
   "outputs": [],
   "source": [
    "import tkinter as tk\n",
    "from tkinter import filedialog, Text\n",
    "import os\n",
    "from PIL import ImageTk, Image\n",
    "\n",
    "\n",
    "root = tk.Tk()  #body of app (which will hold it)\n",
    "root.title(\"Orange Fruit CLassifier\")\n",
    "canvas = tk.Canvas(root, height=700, width=700, bg=\"#263D42\")\n",
    "canvas.pack()\n",
    "\n",
    "#####\n",
    "def addImage():\n",
    "    addImage.filename = filedialog.askopenfilename(initialdir=os.getcwd(), title=\"Select Image\",\n",
    "    filetype = ((\"jpg image\", \"*.jpg\"),(\"png image\",\"*.png\"), (\"all files\", \"*.*\")) )\n",
    "\n",
    "    img = Image.open(addImage.filename)\n",
    "    img.thumbnail((350, 350))\n",
    "    img = ImageTk.PhotoImage(img)\n",
    "    lbl.configure(image = img)\n",
    "    lbl.image = img\n",
    "\n",
    "\n",
    "\n",
    "def prectict():   \n",
    "    if model.predict(process_image(addImage.filename))>0.5: txt = 'dected: Orange '\n",
    "    else: txt = 'dected: Not Orange'\n",
    "\n",
    "    lbl2= tk.Label(frame, text = txt, bg=\"gray\", width=50)\n",
    "    lbl2.pack(side = tk.BOTTOM)\n",
    "\n",
    "\n",
    "\n",
    "####\n",
    "\n",
    "#divs using frames\n",
    "frame = tk.Frame(root, bg=\"white\")\n",
    "#relwidth = width of frame\n",
    "#relx, rely = distance from corners of root frame to new frame\n",
    "frame.place(relwidth = 0.7, relheight = 0.7, relx=0.1, rely=0.1)\n",
    "lbl =tk.Label(frame)\n",
    "lbl.pack(side = tk.LEFT)\n",
    "\n",
    "\n",
    "##buttons\n",
    "openFile = tk.Button(root, text=\"Open Image\",\n",
    "            padx=10, pady=5, fg=\"white\", bg=\"#263D42\", command = addImage)\n",
    "openFile.pack(side = tk.LEFT)\n",
    "\n",
    "runApp = tk.Button(root, text=\"Classify\", padx=10, pady=5, fg=\"white\", bg=\"#263D42\", command = prectict)\n",
    "runApp.pack(side = tk.LEFT, padx=10)\n",
    "\n",
    "exi = tk.Button(root, text=\"Exit\", padx=10, pady=5, fg=\"white\", bg=\"#263D42\",command= lambda: exit() )\n",
    "\n",
    "exi.pack(side = tk.RIGHT)\n",
    "\n",
    "\n",
    "\n",
    "root.mainloop()"
   ]
  },
  {
   "cell_type": "code",
   "execution_count": null,
   "metadata": {},
   "outputs": [],
   "source": []
  }
 ]
}