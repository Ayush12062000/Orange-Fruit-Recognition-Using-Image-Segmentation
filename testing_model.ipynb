{
 "metadata": {
  "language_info": {
   "codemirror_mode": {
    "name": "ipython",
    "version": 3
   },
   "file_extension": ".py",
   "mimetype": "text/x-python",
   "name": "python",
   "nbconvert_exporter": "python",
   "pygments_lexer": "ipython3",
   "version": "3.7.9-final"
  },
  "orig_nbformat": 2,
  "kernelspec": {
   "name": "python3",
   "display_name": "Python 3.7.9 64-bit",
   "metadata": {
    "interpreter": {
     "hash": "4f089d5d4fecc9b26343308b996fdd689be150f0b9db90d9fd8a6c55a5fc822c"
    }
   }
  }
 },
 "nbformat": 4,
 "nbformat_minor": 2,
 "cells": [
  {
   "cell_type": "code",
   "execution_count": 1,
   "metadata": {},
   "outputs": [],
   "source": [
    "import tensorflow as tf\n",
    "gpus= tf.config.experimental.list_physical_devices('GPU')\n",
    "tf.config.experimental.set_memory_growth(gpus[0], True)"
   ]
  },
  {
   "cell_type": "code",
   "execution_count": 2,
   "metadata": {},
   "outputs": [],
   "source": [
    "import numpy as np\n",
    "from tensorflow.keras.models import load_model\n",
    "from keras.models import model_from_json"
   ]
  },
  {
   "cell_type": "code",
   "execution_count": 3,
   "metadata": {},
   "outputs": [],
   "source": [
    "model = model_from_json(open(\"model2.json\", \"r\").read())  \n",
    "model.load_weights('Orange_Fruit_Weights2.h5')"
   ]
  },
  {
   "cell_type": "code",
   "execution_count": 4,
   "metadata": {},
   "outputs": [],
   "source": [
    "from tensorflow.keras.preprocessing.image import load_img, img_to_array"
   ]
  },
  {
   "cell_type": "code",
   "execution_count": 6,
   "metadata": {},
   "outputs": [],
   "source": [
    "def process_image(path):\n",
    "  img = load_img(path, target_size = (64,64))\n",
    "  img_tensor = img_to_array(img)\n",
    "  img_tensor = np.expand_dims(img_tensor, axis = 0)\n",
    "  img_tensor/=255.0\n",
    "  return img_tensor\n",
    "\n",
    "path1 = 'Images/kiwi.jpg'\n",
    "img_original1 = load_img(path1)\n",
    "path2 = 'Images/orange3.jpg'\n",
    "img_original2 = load_img(path2)\n",
    "path3 = 'Images/Orange.jpg'\n",
    "img_original3 = load_img(path3)"
   ]
  },
  {
   "cell_type": "code",
   "execution_count": 7,
   "metadata": {},
   "outputs": [
    {
     "output_type": "stream",
     "name": "stdout",
     "text": [
      "Pred1 =  [[0.00013249]]\nPred2 =  [[0.9997241]]\nPred3 =  [[0.9958103]]\n"
     ]
    }
   ],
   "source": [
    "pred1 = model.predict(process_image(path1))\n",
    "print(\"Pred1 = \",pred1)\n",
    "\n",
    "pred2 = model.predict(process_image(path2))\n",
    "print(\"Pred2 = \",pred2)\n",
    "\n",
    "pred3 = model.predict(process_image(path3))\n",
    "print(\"Pred3 = \",pred3) "
   ]
  },
  {
   "cell_type": "code",
   "execution_count": null,
   "metadata": {},
   "outputs": [],
   "source": []
  }
 ]
}